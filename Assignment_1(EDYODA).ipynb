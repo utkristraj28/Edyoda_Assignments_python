{
 "cells": [
  {
   "cell_type": "code",
   "execution_count": 1,
   "metadata": {},
   "outputs": [
    {
     "name": "stdout",
     "output_type": "stream",
     "text": [
      "1\n",
      "2\n",
      "3\n",
      "5\n",
      "8\n",
      "13\n",
      "21\n",
      "34\n",
      "55\n"
     ]
    }
   ],
   "source": [
    "#1 -> Write a Python program to get the Fibonacci series between 0 to 50\n",
    "\n",
    "n = 10\n",
    "x = 0\n",
    "y = 1\n",
    "z = 0\n",
    "\n",
    "for i in range(1,n):\n",
    "    z = x+y\n",
    "    x = y\n",
    "    y = z\n",
    "    print(z)\n",
    "    "
   ]
  },
  {
   "cell_type": "code",
   "execution_count": 2,
   "metadata": {},
   "outputs": [
    {
     "name": "stdin",
     "output_type": "stream",
     "text": [
      "Enter the word your wish to reverse:  Edyoda\n"
     ]
    },
    {
     "name": "stdout",
     "output_type": "stream",
     "text": [
      "adoydE\n"
     ]
    }
   ],
   "source": [
    "#Write a Python program that accepts a word from the user and reverse it.\n",
    "\n",
    "word = input(\"Enter the word your wish to reverse: \")\n",
    "reverse_word = word[::-1]\n",
    "print(reverse_word)"
   ]
  },
  {
   "cell_type": "code",
   "execution_count": 3,
   "metadata": {},
   "outputs": [
    {
     "name": "stdout",
     "output_type": "stream",
     "text": [
      "Number of Even: 4\n",
      "Number of Odd 5\n"
     ]
    }
   ],
   "source": [
    "#Write a Python program to count the number of even and odd numbers from a series of numbers.\n",
    "\n",
    "numbers =  (1, 2, 3, 4, 5, 6, 7, 8, 9) \n",
    "even = 0\n",
    "odd = 0\n",
    "for num in numbers:\n",
    "    if num%2==0:\n",
    "        even += 1\n",
    "    else:\n",
    "        odd += 1\n",
    "        \n",
    "print(f\"Number of Even: {even}\")\n",
    "print(f\"Number of Odd {odd}\")"
   ]
  },
  {
   "cell_type": "code",
   "execution_count": null,
   "metadata": {},
   "outputs": [],
   "source": []
  }
 ],
 "metadata": {
  "kernelspec": {
   "display_name": "Python 3",
   "language": "python",
   "name": "python3"
  },
  "language_info": {
   "codemirror_mode": {
    "name": "ipython",
    "version": 3
   },
   "file_extension": ".py",
   "mimetype": "text/x-python",
   "name": "python",
   "nbconvert_exporter": "python",
   "pygments_lexer": "ipython3",
   "version": "3.7.4"
  }
 },
 "nbformat": 4,
 "nbformat_minor": 4
}
