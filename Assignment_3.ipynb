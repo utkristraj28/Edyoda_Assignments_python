{
 "cells": [
  {
   "cell_type": "code",
   "execution_count": null,
   "metadata": {},
   "outputs": [],
   "source": [
    "#1\n",
    "#Write a Python function to sum all the numbers in a list.\n",
    "\n",
    "#Sample List : (8, 2, 3, 0, 7)\n",
    "#Expected Output : 20"
   ]
  },
  {
   "cell_type": "code",
   "execution_count": 4,
   "metadata": {},
   "outputs": [
    {
     "data": {
      "text/plain": [
       "20"
      ]
     },
     "execution_count": 4,
     "metadata": {},
     "output_type": "execute_result"
    }
   ],
   "source": [
    "def add(lst):\n",
    "    lst1 = 0\n",
    "    for num in lst:\n",
    "        lst1 += num\n",
    "    return lst1\n",
    "    \n",
    "a = [8,2,3,0,7]\n",
    "add(a)"
   ]
  },
  {
   "cell_type": "code",
   "execution_count": null,
   "metadata": {},
   "outputs": [],
   "source": [
    "#2\n",
    "#Write a Python program to reverse a string.\n",
    "\n",
    "#Sample String : \"1234abcd\"\n",
    "\n",
    "#Expected Output : \"dcba4321\""
   ]
  },
  {
   "cell_type": "code",
   "execution_count": 10,
   "metadata": {},
   "outputs": [
    {
     "data": {
      "text/plain": [
       "'tsirktu'"
      ]
     },
     "execution_count": 10,
     "metadata": {},
     "output_type": "execute_result"
    }
   ],
   "source": [
    "def rev(text):\n",
    "    text = text[::-1]\n",
    "    return text\n",
    "\n",
    "rev(\"utkrist\")"
   ]
  },
  {
   "cell_type": "code",
   "execution_count": null,
   "metadata": {},
   "outputs": [],
   "source": [
    "# Write a Python function that accepts a string and calculate the number of upper case letters and lower case letters.\n",
    "\n",
    "\n",
    "\n",
    "# Sample String : 'The quick Brow Fox'\n",
    "\n",
    "# Expected Output :\n",
    "\n",
    "# No. of Upper case characters : 3\n",
    "\n",
    "# No. of Lower case Characters : 12"
   ]
  },
  {
   "cell_type": "code",
   "execution_count": 23,
   "metadata": {},
   "outputs": [
    {
     "name": "stdout",
     "output_type": "stream",
     "text": [
      "Number of upper case words are: 5\n",
      "Number of lower case words are: 11\n"
     ]
    }
   ],
   "source": [
    "def count(string):\n",
    "    u = 0\n",
    "    l = 0\n",
    "    for word in string:\n",
    "        if word.isupper():\n",
    "            u += 1\n",
    "        elif word.islower():\n",
    "            l += 1\n",
    "    print(f\"Number of upper case words are: {u}\")\n",
    "    print(f\"Number of lower case words are: {l}\")\n",
    "    \n",
    "count(\"This is A String GoT\")"
   ]
  },
  {
   "cell_type": "code",
   "execution_count": null,
   "metadata": {},
   "outputs": [],
   "source": []
  }
 ],
 "metadata": {
  "kernelspec": {
   "display_name": "Python 3",
   "language": "python",
   "name": "python3"
  },
  "language_info": {
   "codemirror_mode": {
    "name": "ipython",
    "version": 3
   },
   "file_extension": ".py",
   "mimetype": "text/x-python",
   "name": "python",
   "nbconvert_exporter": "python",
   "pygments_lexer": "ipython3",
   "version": "3.7.4"
  }
 },
 "nbformat": 4,
 "nbformat_minor": 4
}
